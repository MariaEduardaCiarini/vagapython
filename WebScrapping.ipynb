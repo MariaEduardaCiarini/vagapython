{
 "cells": [
  {
   "cell_type": "code",
   "execution_count": 1,
   "id": "8a25effb-e5c6-4bc8-9298-00750b377082",
   "metadata": {},
   "outputs": [
    {
     "name": "stdout",
     "output_type": "stream",
     "text": [
      "Name: beautifulsoup4\n",
      "Version: 4.12.3\n",
      "Summary: Screen-scraping library\n",
      "Home-page: https://www.crummy.com/software/BeautifulSoup/bs4/\n",
      "Author: \n",
      "Author-email: Leonard Richardson <leonardr@segfault.org>\n",
      "License: MIT License\n",
      "Location: C:\\Users\\DudaC\\anaconda3\\Lib\\site-packages\n",
      "Requires: soupsieve\n",
      "Required-by: conda-build, nbconvert, yfinance\n",
      "Note: you may need to restart the kernel to use updated packages.\n"
     ]
    }
   ],
   "source": [
    "pip show beautifulsoup4"
   ]
  },
  {
   "cell_type": "code",
   "execution_count": 2,
   "id": "b28f03d7-fbdd-43e5-96ea-317675454652",
   "metadata": {},
   "outputs": [],
   "source": [
    "from bs4 import BeautifulSoup"
   ]
  },
  {
   "cell_type": "code",
   "execution_count": 3,
   "id": "c0516bcd-3ad3-426b-b9de-a8bec768d868",
   "metadata": {},
   "outputs": [],
   "source": [
    "import requests"
   ]
  },
  {
   "cell_type": "code",
   "execution_count": 4,
   "id": "1d31ff32-b6d3-4c4e-9cda-8768f2ce27af",
   "metadata": {},
   "outputs": [
    {
     "name": "stdout",
     "output_type": "stream",
     "text": [
      "Name: yfinance\n",
      "Version: 0.2.63\n",
      "Summary: Download market data from Yahoo! Finance API\n",
      "Home-page: https://github.com/ranaroussi/yfinance\n",
      "Author: Ran Aroussi\n",
      "Author-email: ran@aroussi.com\n",
      "License: Apache\n",
      "Location: C:\\Users\\DudaC\\anaconda3\\Lib\\site-packages\n",
      "Requires: beautifulsoup4, curl_cffi, frozendict, multitasking, numpy, pandas, peewee, platformdirs, protobuf, pytz, requests, websockets\n",
      "Required-by: \n",
      "Note: you may need to restart the kernel to use updated packages.\n"
     ]
    }
   ],
   "source": [
    "pip show yfinance"
   ]
  },
  {
   "cell_type": "code",
   "execution_count": 7,
   "id": "a39cb368-e6ba-4b5a-878d-783805ebae12",
   "metadata": {},
   "outputs": [
    {
     "name": "stdout",
     "output_type": "stream",
     "text": [
      "Nome do ativo: Fundo Investimento Imobiliario Fii Ubs (Br) Recebveis Imobiliarios\n",
      "Preço atual: 84.46\n",
      "Variação diária (%): 0.8959503\n",
      "Fechamento anterior: 83.71\n"
     ]
    }
   ],
   "source": [
    "# Extração de um ativo e informações em tempo real\n",
    "\n",
    "import yfinance as yf\n",
    "\n",
    "# Nome do ativo imobiliario (FII)\n",
    "ativo = yf.Ticker(\"RECR11.SA\")\n",
    "\n",
    "# Chamando dados atuais\n",
    "info = ativo.info\n",
    "\n",
    "# Mostra o nome e o preço atual do ativo\n",
    "print(\"Nome do ativo:\", info.get(\"longName\"))\n",
    "print(\"Preço atual:\", info.get(\"regularMarketPrice\"))\n",
    "print(\"Variação diária (%):\", info.get(\"regularMarketChangePercent\"))\n",
    "print(\"Fechamento anterior:\", info.get(\"regularMarketPreviousClose\"))"
   ]
  },
  {
   "cell_type": "code",
   "execution_count": 8,
   "id": "14d6f6d7-d9f4-4c5d-b027-cfefa31a9139",
   "metadata": {},
   "outputs": [],
   "source": [
    "with open(\"dados_recr11.txt\", \"w\", encoding=\"utf-8\") as arquivo:\n",
    "    arquivo.write(f\"Nome do ativo: {info.get('longName')}\\n\")\n",
    "    arquivo.write(f\"Preço atual: {info.get('regularMarketPrice')}\\n\")\n",
    "    arquivo.write(f\"Variação diária (%): {info.get('regularMarketChangePercent')}\\n\")\n",
    "    arquivo.write(f\"Fechamento anterior: {info.get('regularMarketPreviousClose')}\\n\")"
   ]
  }
 ],
 "metadata": {
  "kernelspec": {
   "display_name": "Python [conda env:base] *",
   "language": "python",
   "name": "conda-base-py"
  },
  "language_info": {
   "codemirror_mode": {
    "name": "ipython",
    "version": 3
   },
   "file_extension": ".py",
   "mimetype": "text/x-python",
   "name": "python",
   "nbconvert_exporter": "python",
   "pygments_lexer": "ipython3",
   "version": "3.12.7"
  }
 },
 "nbformat": 4,
 "nbformat_minor": 5
}
